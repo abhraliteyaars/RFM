{
 "cells": [
  {
   "cell_type": "markdown",
   "id": "26225257",
   "metadata": {},
   "source": [
    "### Ingestion"
   ]
  },
  {
   "cell_type": "code",
   "execution_count": null,
   "id": "82fed24e",
   "metadata": {},
   "outputs": [],
   "source": [
    "#Dont run this cell. Run cell below which already has the consoldated Dataframe\n",
    "\n",
    "import pandas as pd\n",
    "import numpy as np\n",
    "import matplotlib.pyplot as plt\n",
    "import seaborn as sns\n",
    "import datetime as dt\n",
    "import warnings\n",
    "warnings.filterwarnings(\"ignore\")\n",
    "%matplotlib inline\n",
    "\n",
    "\n",
    "#Read the files and concat in one dataframe\n",
    "df1=pd.read_csv('SR-26194620230109114154/SR-261946_Data request for customer segmentation(Dec)_2021-12-31-2022-01-31.csv')\n",
    "df2=pd.read_csv('SR-26194620230109114154/SR-261946_Data request for customer segmentation(Dec)_2022-02-01-2022-02-28.csv')\n",
    "df3=pd.read_csv('SR-26194620230109114154/SR-261946_Data request for customer segmentation(Dec)_2022-03-01-2022-03-31.csv')\n",
    "df4=pd.read_csv('SR-26194620230109114154/SR-261946_Data request for customer segmentation(Dec)_2022-04-01-2022-04-30.csv')\n",
    "df5=pd.read_csv('SR-26194620230109114154/SR-261946_Data request for customer segmentation(Dec)_2022-05-01-2022-05-31.csv')\n",
    "df6=pd.read_csv('SR-26194620230109114154/SR-261946_Data request for customer segmentation(Dec)_2022-06-01-2022-06-30.csv')\n",
    "df7=pd.read_csv('SR-26194620230109114154/SR-261946_Data request for customer segmentation(Dec)_2022-07-01-2022-07-31.csv')\n",
    "df8=pd.read_csv('SR-26194620230109114154/SR-261946_Data request for customer segmentation(Dec)_2022-08-01-2022-08-31.csv')\n",
    "df9=pd.read_csv('SR-26194620230109114154/SR-261946_Data request for customer segmentation(Dec)_2022-09-01-2022-09-30.csv')\n",
    "df10=pd.read_csv('SR-26194620230109114154/SR-261946_Data request for customer segmentation(Dec)_2022-10-01-2022-10-31.csv')\n",
    "df11=pd.read_csv('SR-26194620230109114154/SR-261946_Data request for customer segmentation(Dec)_2022-11-01-2022-11-30.csv')\n",
    "df12=pd.read_csv('SR-26194620230109114154/SR-261946_Data request for customer segmentation(Dec)_2022-12-01-2022-12-31.csv')\n",
    "df=pd.concat([df1,df2,df3,df4,df5,df6,df7,df8,df9,df10,df11,df12],axis=0)\n",
    "\n",
    "df.sample(5)\n",
    "df.to_csv('RFM_Consol_2022.csv')\n",
    "df.shape"
   ]
  },
  {
   "cell_type": "code",
   "execution_count": 2,
   "id": "621cc260",
   "metadata": {},
   "outputs": [
    {
     "data": {
      "application/javascript": [
       "\n",
       "        if (window._pyforest_update_imports_cell) { window._pyforest_update_imports_cell('import pandas as pd'); }\n",
       "    "
      ],
      "text/plain": [
       "<IPython.core.display.Javascript object>"
      ]
     },
     "metadata": {},
     "output_type": "display_data"
    },
    {
     "data": {
      "text/html": [
       "<div>\n",
       "<style scoped>\n",
       "    .dataframe tbody tr th:only-of-type {\n",
       "        vertical-align: middle;\n",
       "    }\n",
       "\n",
       "    .dataframe tbody tr th {\n",
       "        vertical-align: top;\n",
       "    }\n",
       "\n",
       "    .dataframe thead th {\n",
       "        text-align: right;\n",
       "    }\n",
       "</style>\n",
       "<table border=\"1\" class=\"dataframe\">\n",
       "  <thead>\n",
       "    <tr style=\"text-align: right;\">\n",
       "      <th></th>\n",
       "      <th>TCP#</th>\n",
       "      <th>Order Number</th>\n",
       "      <th>Order Date</th>\n",
       "      <th>Channel</th>\n",
       "      <th>Ticket</th>\n",
       "      <th>Gross Amount</th>\n",
       "      <th>Quantity</th>\n",
       "      <th>KYBM Category</th>\n",
       "      <th>Article Number</th>\n",
       "    </tr>\n",
       "  </thead>\n",
       "  <tbody>\n",
       "    <tr>\n",
       "      <th>15580245</th>\n",
       "      <td>adabbc0cbd3783a749e16ab0d7ca6e00</td>\n",
       "      <td>SOA212006267330</td>\n",
       "      <td>2022-11-17</td>\n",
       "      <td>RS</td>\n",
       "      <td>1</td>\n",
       "      <td>19848.1</td>\n",
       "      <td>2.0</td>\n",
       "      <td>Smart Phones (OS Based)</td>\n",
       "      <td>260611.0</td>\n",
       "    </tr>\n",
       "    <tr>\n",
       "      <th>12074329</th>\n",
       "      <td>b159d8ad8b097b9c3850568c14f533dc</td>\n",
       "      <td>ROA089004819407</td>\n",
       "      <td>2022-09-28</td>\n",
       "      <td>RS</td>\n",
       "      <td>0</td>\n",
       "      <td>-165690.0</td>\n",
       "      <td>-1.0</td>\n",
       "      <td>Mobile Computing</td>\n",
       "      <td>245232.0</td>\n",
       "    </tr>\n",
       "    <tr>\n",
       "      <th>15209936</th>\n",
       "      <td>6e630967c87cc81981bb4be59bef1979</td>\n",
       "      <td>SOA032006296537</td>\n",
       "      <td>2022-11-19</td>\n",
       "      <td>RS</td>\n",
       "      <td>1</td>\n",
       "      <td>14797.0</td>\n",
       "      <td>4.0</td>\n",
       "      <td>NON-KYBM</td>\n",
       "      <td>212249.0</td>\n",
       "    </tr>\n",
       "    <tr>\n",
       "      <th>10908375</th>\n",
       "      <td>e9a0b4e1f64474bc84ee0cccca3199e8</td>\n",
       "      <td>SOA062004127626</td>\n",
       "      <td>2022-08-28</td>\n",
       "      <td>RS</td>\n",
       "      <td>1</td>\n",
       "      <td>125243.1</td>\n",
       "      <td>6.0</td>\n",
       "      <td>NON-KYBM</td>\n",
       "      <td>229621.0</td>\n",
       "    </tr>\n",
       "    <tr>\n",
       "      <th>7586490</th>\n",
       "      <td>ff31e4f4538cbdd276009e4ca89b8220</td>\n",
       "      <td>SOA189002492352</td>\n",
       "      <td>2022-06-20</td>\n",
       "      <td>RS</td>\n",
       "      <td>1</td>\n",
       "      <td>8115.4</td>\n",
       "      <td>3.0</td>\n",
       "      <td>Washing Machines</td>\n",
       "      <td>211392.0</td>\n",
       "    </tr>\n",
       "  </tbody>\n",
       "</table>\n",
       "</div>"
      ],
      "text/plain": [
       "                                      TCP#     Order Number  Order Date  \\\n",
       "15580245  adabbc0cbd3783a749e16ab0d7ca6e00  SOA212006267330  2022-11-17   \n",
       "12074329  b159d8ad8b097b9c3850568c14f533dc  ROA089004819407  2022-09-28   \n",
       "15209936  6e630967c87cc81981bb4be59bef1979  SOA032006296537  2022-11-19   \n",
       "10908375  e9a0b4e1f64474bc84ee0cccca3199e8  SOA062004127626  2022-08-28   \n",
       "7586490   ff31e4f4538cbdd276009e4ca89b8220  SOA189002492352  2022-06-20   \n",
       "\n",
       "         Channel  Ticket  Gross Amount  Quantity            KYBM Category  \\\n",
       "15580245      RS       1       19848.1       2.0  Smart Phones (OS Based)   \n",
       "12074329      RS       0     -165690.0      -1.0         Mobile Computing   \n",
       "15209936      RS       1       14797.0       4.0                 NON-KYBM   \n",
       "10908375      RS       1      125243.1       6.0                 NON-KYBM   \n",
       "7586490       RS       1        8115.4       3.0         Washing Machines   \n",
       "\n",
       "          Article Number  \n",
       "15580245        260611.0  \n",
       "12074329        245232.0  \n",
       "15209936        212249.0  \n",
       "10908375        229621.0  \n",
       "7586490         211392.0  "
      ]
     },
     "execution_count": 2,
     "metadata": {},
     "output_type": "execute_result"
    }
   ],
   "source": [
    "#Run this cell\n",
    "df=pd.read_csv('RFM_Consol_2022.csv')\n",
    "df.drop(columns=['Unnamed: 0'],inplace=True)\n",
    "import warnings\n",
    "warnings.filterwarnings(\"ignore\")\n",
    "df.sample(5)"
   ]
  },
  {
   "cell_type": "code",
   "execution_count": 3,
   "id": "5778c351",
   "metadata": {},
   "outputs": [
    {
     "data": {
      "text/plain": [
       "(17475975, 9)"
      ]
     },
     "execution_count": 3,
     "metadata": {},
     "output_type": "execute_result"
    }
   ],
   "source": [
    "df.shape"
   ]
  },
  {
   "cell_type": "markdown",
   "id": "fa219efe",
   "metadata": {},
   "source": [
    "### Cleaning"
   ]
  },
  {
   "cell_type": "code",
   "execution_count": 4,
   "id": "821ea58f",
   "metadata": {},
   "outputs": [
    {
     "data": {
      "application/javascript": [
       "\n",
       "        if (window._pyforest_update_imports_cell) { window._pyforest_update_imports_cell('import pandas as pd'); }\n",
       "    "
      ],
      "text/plain": [
       "<IPython.core.display.Javascript object>"
      ]
     },
     "metadata": {},
     "output_type": "display_data"
    },
    {
     "data": {
      "application/javascript": [
       "\n",
       "        if (window._pyforest_update_imports_cell) { window._pyforest_update_imports_cell('import pandas as pd'); }\n",
       "    "
      ],
      "text/plain": [
       "<IPython.core.display.Javascript object>"
      ]
     },
     "metadata": {},
     "output_type": "display_data"
    },
    {
     "data": {
      "text/html": [
       "<div>\n",
       "<style scoped>\n",
       "    .dataframe tbody tr th:only-of-type {\n",
       "        vertical-align: middle;\n",
       "    }\n",
       "\n",
       "    .dataframe tbody tr th {\n",
       "        vertical-align: top;\n",
       "    }\n",
       "\n",
       "    .dataframe thead th {\n",
       "        text-align: right;\n",
       "    }\n",
       "</style>\n",
       "<table border=\"1\" class=\"dataframe\">\n",
       "  <thead>\n",
       "    <tr style=\"text-align: right;\">\n",
       "      <th></th>\n",
       "      <th>CustomerContactID</th>\n",
       "      <th>OrderNo</th>\n",
       "      <th>orderDate</th>\n",
       "      <th>Gross</th>\n",
       "      <th>Category</th>\n",
       "      <th>SKU</th>\n",
       "      <th>Diff</th>\n",
       "    </tr>\n",
       "  </thead>\n",
       "  <tbody>\n",
       "    <tr>\n",
       "      <th>1145868</th>\n",
       "      <td>f3e667705a6bbfb00a334a19e3bb074d</td>\n",
       "      <td>SOA037000161764</td>\n",
       "      <td>2022-01-14</td>\n",
       "      <td>3149.00</td>\n",
       "      <td>SOUND-KYBM</td>\n",
       "      <td>214741.0</td>\n",
       "      <td>351</td>\n",
       "    </tr>\n",
       "    <tr>\n",
       "      <th>16667209</th>\n",
       "      <td>7500b472812f6e7b57d4142023bd150d</td>\n",
       "      <td>SOA058007061104</td>\n",
       "      <td>2022-12-22</td>\n",
       "      <td>50372.50</td>\n",
       "      <td>NON-KYBM</td>\n",
       "      <td>261113.0</td>\n",
       "      <td>9</td>\n",
       "    </tr>\n",
       "    <tr>\n",
       "      <th>13837204</th>\n",
       "      <td>9c8720fbec617674702b097b510a8b7d</td>\n",
       "      <td>SOA218004977596</td>\n",
       "      <td>2022-10-03</td>\n",
       "      <td>133123.71</td>\n",
       "      <td>NON-KYBM</td>\n",
       "      <td>226239.0</td>\n",
       "      <td>89</td>\n",
       "    </tr>\n",
       "    <tr>\n",
       "      <th>3354330</th>\n",
       "      <td>NaN</td>\n",
       "      <td>9240012580</td>\n",
       "      <td>2022-04-18</td>\n",
       "      <td>-11075.04</td>\n",
       "      <td>NON-KYBM</td>\n",
       "      <td>163447.0</td>\n",
       "      <td>257</td>\n",
       "    </tr>\n",
       "    <tr>\n",
       "      <th>13175345</th>\n",
       "      <td>53aa3eb83096f30455de28f82cfef7af</td>\n",
       "      <td>SOA256005903082</td>\n",
       "      <td>2022-10-31</td>\n",
       "      <td>44889.01</td>\n",
       "      <td>NON-KYBM</td>\n",
       "      <td>169175.0</td>\n",
       "      <td>61</td>\n",
       "    </tr>\n",
       "    <tr>\n",
       "      <th>5535587</th>\n",
       "      <td>969b029d80a95d423c7fa65896e88863</td>\n",
       "      <td>SOA045001828316</td>\n",
       "      <td>2022-05-20</td>\n",
       "      <td>6699.00</td>\n",
       "      <td>SOUND-KYBM</td>\n",
       "      <td>247288.0</td>\n",
       "      <td>225</td>\n",
       "    </tr>\n",
       "    <tr>\n",
       "      <th>8100989</th>\n",
       "      <td>490f74461d9651137f514e1e279d094f</td>\n",
       "      <td>SOA180002988330</td>\n",
       "      <td>2022-07-14</td>\n",
       "      <td>17909.00</td>\n",
       "      <td>Smart Phones (OS Based)</td>\n",
       "      <td>246853.0</td>\n",
       "      <td>170</td>\n",
       "    </tr>\n",
       "    <tr>\n",
       "      <th>3745356</th>\n",
       "      <td>4e1808f62cb48a0be80c2faf8a361373</td>\n",
       "      <td>SOA120001238703</td>\n",
       "      <td>2022-04-24</td>\n",
       "      <td>61751.00</td>\n",
       "      <td>SOUND-KYBM</td>\n",
       "      <td>239033.0</td>\n",
       "      <td>251</td>\n",
       "    </tr>\n",
       "    <tr>\n",
       "      <th>13592132</th>\n",
       "      <td>8464888394</td>\n",
       "      <td>U3fW0TYjF</td>\n",
       "      <td>2022-10-05</td>\n",
       "      <td>7490.00</td>\n",
       "      <td>TV LCD</td>\n",
       "      <td>242597.0</td>\n",
       "      <td>87</td>\n",
       "    </tr>\n",
       "    <tr>\n",
       "      <th>14607524</th>\n",
       "      <td>fc3f74fbcbc9cda239f07cb2053aebac</td>\n",
       "      <td>SOA039005216191</td>\n",
       "      <td>2022-10-12</td>\n",
       "      <td>2478.00</td>\n",
       "      <td>NON-KYBM</td>\n",
       "      <td>257672.0</td>\n",
       "      <td>80</td>\n",
       "    </tr>\n",
       "  </tbody>\n",
       "</table>\n",
       "</div>"
      ],
      "text/plain": [
       "                         CustomerContactID          OrderNo  orderDate  \\\n",
       "1145868   f3e667705a6bbfb00a334a19e3bb074d  SOA037000161764 2022-01-14   \n",
       "16667209  7500b472812f6e7b57d4142023bd150d  SOA058007061104 2022-12-22   \n",
       "13837204  9c8720fbec617674702b097b510a8b7d  SOA218004977596 2022-10-03   \n",
       "3354330                                NaN       9240012580 2022-04-18   \n",
       "13175345  53aa3eb83096f30455de28f82cfef7af  SOA256005903082 2022-10-31   \n",
       "5535587   969b029d80a95d423c7fa65896e88863  SOA045001828316 2022-05-20   \n",
       "8100989   490f74461d9651137f514e1e279d094f  SOA180002988330 2022-07-14   \n",
       "3745356   4e1808f62cb48a0be80c2faf8a361373  SOA120001238703 2022-04-24   \n",
       "13592132                        8464888394        U3fW0TYjF 2022-10-05   \n",
       "14607524  fc3f74fbcbc9cda239f07cb2053aebac  SOA039005216191 2022-10-12   \n",
       "\n",
       "              Gross                 Category       SKU  Diff  \n",
       "1145868     3149.00               SOUND-KYBM  214741.0   351  \n",
       "16667209   50372.50                 NON-KYBM  261113.0     9  \n",
       "13837204  133123.71                 NON-KYBM  226239.0    89  \n",
       "3354330   -11075.04                 NON-KYBM  163447.0   257  \n",
       "13175345   44889.01                 NON-KYBM  169175.0    61  \n",
       "5535587     6699.00               SOUND-KYBM  247288.0   225  \n",
       "8100989    17909.00  Smart Phones (OS Based)  246853.0   170  \n",
       "3745356    61751.00               SOUND-KYBM  239033.0   251  \n",
       "13592132    7490.00                   TV LCD  242597.0    87  \n",
       "14607524    2478.00                 NON-KYBM  257672.0    80  "
      ]
     },
     "execution_count": 4,
     "metadata": {},
     "output_type": "execute_result"
    }
   ],
   "source": [
    "df=df.rename(columns={'TCP#':'CustomerContactID'})\n",
    "df=df.rename(columns={'Order Number':'OrderNo'})\n",
    "df=df.rename(columns={'Order Date':'orderDate'})\n",
    "df=df.rename(columns={'Channel':'SalesChannelCode'})\n",
    "df=df.rename(columns={'Ticket':'Ticket'})\n",
    "df=df.rename(columns={'Gross Amount':'Gross'})\n",
    "df=df.rename(columns={'Quantity':'Quantity'})\n",
    "df=df.rename(columns={'KYBM Category':'Category'})\n",
    "df=df.rename(columns={'Article Number':'SKU'})\n",
    "\n",
    "#data transformation- \n",
    "#drop Sales channel, Ticket. \n",
    "df.drop(columns=['SalesChannelCode','Ticket'],inplace=True)\n",
    "\n",
    "#Clean up Quantity and keep rows only where Quantity>0\n",
    "df=df.replace(',','',regex=True)\n",
    "df['Quantity']=df['Quantity'].astype(str).astype(str).astype(float).astype(float)\n",
    "df['Gross']=df['Gross'].astype(str).astype(str).astype(float).astype(float)\n",
    "df=df[df['Quantity']>0]\n",
    "\n",
    "#drop Quantity\n",
    "df.drop(columns='Quantity',inplace=True)\n",
    "\n",
    "#Convert orderDate to datetime format and find the difference from the max date value of the dataset\n",
    "df['orderDate']=pd.to_datetime(df['orderDate'])\n",
    "df['Diff']=pd.Timestamp(max(df['orderDate']))-df['orderDate']\n",
    "\n",
    "#convert the Diff values to integer\n",
    "df['Diff']=df['Diff'].dt.days\n",
    "\n",
    "#retain values less than a year\n",
    "df=df[df['Diff']<365]\n",
    "\n",
    "df.sample(10)"
   ]
  },
  {
   "cell_type": "markdown",
   "id": "2b11ae9a",
   "metadata": {},
   "source": [
    "### Recency calculation"
   ]
  },
  {
   "cell_type": "code",
   "execution_count": 5,
   "id": "59b35963",
   "metadata": {},
   "outputs": [
    {
     "name": "stdout",
     "output_type": "stream",
     "text": [
      "Stats of Rec:                Diff\n",
      "count  6.231728e+06\n",
      "mean   1.568038e+02\n",
      "std    9.995564e+01\n",
      "min    0.000000e+00\n",
      "25%    7.100000e+01\n",
      "50%    1.460000e+02\n",
      "75%    2.370000e+02\n",
      "max    3.640000e+02\n"
     ]
    },
    {
     "data": {
      "application/javascript": [
       "\n",
       "        if (window._pyforest_update_imports_cell) { window._pyforest_update_imports_cell('import seaborn as sns\\nimport pandas as pd'); }\n",
       "    "
      ],
      "text/plain": [
       "<IPython.core.display.Javascript object>"
      ]
     },
     "metadata": {},
     "output_type": "display_data"
    },
    {
     "data": {
      "application/javascript": [
       "\n",
       "        if (window._pyforest_update_imports_cell) { window._pyforest_update_imports_cell('import seaborn as sns\\nimport pandas as pd'); }\n",
       "    "
      ],
      "text/plain": [
       "<IPython.core.display.Javascript object>"
      ]
     },
     "metadata": {},
     "output_type": "display_data"
    },
    {
     "data": {
      "image/png": "[encoded data removed]",
      "text/plain": [
       "<Figure size 640x480 with 1 Axes>"
      ]
     },
     "metadata": {},
     "output_type": "display_data"
    }
   ],
   "source": [
    "#Create new dataframe which shows each customer id once along with the last date of purchase for them\n",
    "df_rec=df.groupby('CustomerContactID').min('Diff').reset_index()\n",
    "#remove 1st row\n",
    "df_rec=df_rec.iloc[1:]\n",
    "df_rec.drop(columns=['Gross','SKU'],inplace=True)\n",
    "\n",
    "#output- show stats of the Days column\n",
    "print('Stats of Rec:',df_rec.describe())\n",
    "\n",
    "#Distribution on a graph\n",
    "sns.distplot(df_rec['Diff'],bins=50)\n",
    "sns.boxplot(x='Diff',data=df_rec)\n",
    "\n",
    "stats=df_rec.describe()\n",
    "stats=stats.reset_index()\n",
    "stats.rename(columns={'index':'Measure'},inplace=True)\n",
    "q1=stats[stats['Measure']=='25%'].to_numpy()\n",
    "q2=stats[stats['Measure']=='50%'].to_numpy()\n",
    "q3=stats[stats['Measure']=='75%'].to_numpy()\n",
    "\n",
    "Q1_rec=q1[0][1]\n",
    "Q2_rec=q2[0][1]\n",
    "Q3_rec=q3[0][1]"
   ]
  },
  {
   "cell_type": "code",
   "execution_count": 6,
   "id": "4da85969",
   "metadata": {},
   "outputs": [
    {
     "data": {
      "text/html": [
       "<div>\n",
       "<style scoped>\n",
       "    .dataframe tbody tr th:only-of-type {\n",
       "        vertical-align: middle;\n",
       "    }\n",
       "\n",
       "    .dataframe tbody tr th {\n",
       "        vertical-align: top;\n",
       "    }\n",
       "\n",
       "    .dataframe thead th {\n",
       "        text-align: right;\n",
       "    }\n",
       "</style>\n",
       "<table border=\"1\" class=\"dataframe\">\n",
       "  <thead>\n",
       "    <tr style=\"text-align: right;\">\n",
       "      <th></th>\n",
       "      <th>CustomerContactID</th>\n",
       "      <th>Diff</th>\n",
       "    </tr>\n",
       "  </thead>\n",
       "  <tbody>\n",
       "    <tr>\n",
       "      <th>4918131</th>\n",
       "      <td>c3a099a965b1a0288fd4988c70a936bf</td>\n",
       "      <td>63</td>\n",
       "    </tr>\n",
       "    <tr>\n",
       "      <th>4383444</th>\n",
       "      <td>ab0db28cee35cd4a8312e37c26a2821e</td>\n",
       "      <td>78</td>\n",
       "    </tr>\n",
       "    <tr>\n",
       "      <th>2703527</th>\n",
       "      <td>737b3accf10a3e0fde7528cb2f34c406</td>\n",
       "      <td>147</td>\n",
       "    </tr>\n",
       "    <tr>\n",
       "      <th>4460198</th>\n",
       "      <td>ae95753cf5b675a1b316acb63884269c</td>\n",
       "      <td>138</td>\n",
       "    </tr>\n",
       "    <tr>\n",
       "      <th>1269964</th>\n",
       "      <td>33b4ad50ed89b78db78d6febf6607299</td>\n",
       "      <td>232</td>\n",
       "    </tr>\n",
       "    <tr>\n",
       "      <th>147201</th>\n",
       "      <td>0494214932</td>\n",
       "      <td>213</td>\n",
       "    </tr>\n",
       "    <tr>\n",
       "      <th>2362671</th>\n",
       "      <td>6540fd7a4faa619d43a527446c6db00e</td>\n",
       "      <td>184</td>\n",
       "    </tr>\n",
       "    <tr>\n",
       "      <th>318374</th>\n",
       "      <td>0980865540</td>\n",
       "      <td>159</td>\n",
       "    </tr>\n",
       "    <tr>\n",
       "      <th>484416</th>\n",
       "      <td>1058835201</td>\n",
       "      <td>151</td>\n",
       "    </tr>\n",
       "    <tr>\n",
       "      <th>3187348</th>\n",
       "      <td>851cc9c68875074851ad953ab8faa197</td>\n",
       "      <td>225</td>\n",
       "    </tr>\n",
       "  </tbody>\n",
       "</table>\n",
       "</div>"
      ],
      "text/plain": [
       "                        CustomerContactID  Diff\n",
       "4918131  c3a099a965b1a0288fd4988c70a936bf    63\n",
       "4383444  ab0db28cee35cd4a8312e37c26a2821e    78\n",
       "2703527  737b3accf10a3e0fde7528cb2f34c406   147\n",
       "4460198  ae95753cf5b675a1b316acb63884269c   138\n",
       "1269964  33b4ad50ed89b78db78d6febf6607299   232\n",
       "147201                         0494214932   213\n",
       "2362671  6540fd7a4faa619d43a527446c6db00e   184\n",
       "318374                         0980865540   159\n",
       "484416                         1058835201   151\n",
       "3187348  851cc9c68875074851ad953ab8faa197   225"
      ]
     },
     "execution_count": 6,
     "metadata": {},
     "output_type": "execute_result"
    }
   ],
   "source": [
    "df_rec.sample(10)"
   ]
  },
  {
   "cell_type": "code",
   "execution_count": 7,
   "id": "cbb31ca9",
   "metadata": {},
   "outputs": [
    {
     "data": {
      "text/plain": [
       "(6231728, 2)"
      ]
     },
     "execution_count": 7,
     "metadata": {},
     "output_type": "execute_result"
    }
   ],
   "source": [
    "df_rec.shape"
   ]
  },
  {
   "cell_type": "markdown",
   "id": "1a4ca601",
   "metadata": {},
   "source": [
    "### SKU purchased in the most recent purchase"
   ]
  },
  {
   "cell_type": "code",
   "execution_count": 8,
   "id": "cf68e120",
   "metadata": {},
   "outputs": [],
   "source": [
    "df_SKU=df.groupby('CustomerContactID').max('SKU').reset_index()\n",
    "df_SKU.drop(columns=['Diff','Gross'],inplace=True)"
   ]
  },
  {
   "cell_type": "code",
   "execution_count": 9,
   "id": "17a60c8e",
   "metadata": {},
   "outputs": [
    {
     "data": {
      "text/html": [
       "<div>\n",
       "<style scoped>\n",
       "    .dataframe tbody tr th:only-of-type {\n",
       "        vertical-align: middle;\n",
       "    }\n",
       "\n",
       "    .dataframe tbody tr th {\n",
       "        vertical-align: top;\n",
       "    }\n",
       "\n",
       "    .dataframe thead th {\n",
       "        text-align: right;\n",
       "    }\n",
       "</style>\n",
       "<table border=\"1\" class=\"dataframe\">\n",
       "  <thead>\n",
       "    <tr style=\"text-align: right;\">\n",
       "      <th></th>\n",
       "      <th>CustomerContactID</th>\n",
       "      <th>SKU</th>\n",
       "    </tr>\n",
       "  </thead>\n",
       "  <tbody>\n",
       "    <tr>\n",
       "      <th>4685954</th>\n",
       "      <td>b8f54fa6e74297aeef16b84ce1988efa</td>\n",
       "      <td>247660.0</td>\n",
       "    </tr>\n",
       "    <tr>\n",
       "      <th>832687</th>\n",
       "      <td>1fe3a6b1d6e45066a510ed0de2bd11d6</td>\n",
       "      <td>219044.0</td>\n",
       "    </tr>\n",
       "    <tr>\n",
       "      <th>5545929</th>\n",
       "      <td>e0702bebf8082caf9239b9aa91cbd20c</td>\n",
       "      <td>205693.0</td>\n",
       "    </tr>\n",
       "    <tr>\n",
       "      <th>5850471</th>\n",
       "      <td>ee6cef0ef3bfe77c55284c982f9a85af</td>\n",
       "      <td>231572.0</td>\n",
       "    </tr>\n",
       "    <tr>\n",
       "      <th>6216528</th>\n",
       "      <td>ff4b4e584a74ede43921a959ef01c02a</td>\n",
       "      <td>242728.0</td>\n",
       "    </tr>\n",
       "  </tbody>\n",
       "</table>\n",
       "</div>"
      ],
      "text/plain": [
       "                        CustomerContactID       SKU\n",
       "4685954  b8f54fa6e74297aeef16b84ce1988efa  247660.0\n",
       "832687   1fe3a6b1d6e45066a510ed0de2bd11d6  219044.0\n",
       "5545929  e0702bebf8082caf9239b9aa91cbd20c  205693.0\n",
       "5850471  ee6cef0ef3bfe77c55284c982f9a85af  231572.0\n",
       "6216528  ff4b4e584a74ede43921a959ef01c02a  242728.0"
      ]
     },
     "execution_count": 9,
     "metadata": {},
     "output_type": "execute_result"
    }
   ],
   "source": [
    "df_SKU.sample(5)"
   ]
  },
  {
   "cell_type": "code",
   "execution_count": 10,
   "id": "5342f87f",
   "metadata": {},
   "outputs": [
    {
     "data": {
      "text/plain": [
       "(6231729, 2)"
      ]
     },
     "execution_count": 10,
     "metadata": {},
     "output_type": "execute_result"
    }
   ],
   "source": [
    "df_SKU.shape"
   ]
  },
  {
   "cell_type": "markdown",
   "id": "0e94f89d",
   "metadata": {},
   "source": [
    "### Frequency"
   ]
  },
  {
   "cell_type": "code",
   "execution_count": 11,
   "id": "44d0a015",
   "metadata": {},
   "outputs": [
    {
     "name": "stdout",
     "output_type": "stream",
     "text": [
      "Stats of Freq:\n",
      "            OrderNo\n",
      "count  6.231729e+06\n",
      "mean   2.474140e+00\n",
      "std    3.674178e+00\n",
      "min    1.000000e+00\n",
      "25%    1.000000e+00\n",
      "50%    2.000000e+00\n",
      "75%    3.000000e+00\n",
      "max    3.636000e+03\n",
      "            \n",
      "Distribution of Order#\n",
      "1      2823259\n",
      "2      1585686\n",
      "3       682308\n",
      "4       420382\n",
      "5       237954\n",
      "        ...   \n",
      "399          1\n",
      "567          1\n",
      "187          1\n",
      "471          1\n",
      "412          1\n",
      "Name: OrderNo, Length: 277, dtype: int64\n"
     ]
    },
    {
     "data": {
      "application/javascript": [
       "\n",
       "        if (window._pyforest_update_imports_cell) { window._pyforest_update_imports_cell('import seaborn as sns\\nimport pandas as pd\\nimport matplotlib.pyplot as plt'); }\n",
       "    "
      ],
      "text/plain": [
       "<IPython.core.display.Javascript object>"
      ]
     },
     "metadata": {},
     "output_type": "display_data"
    },
    {
     "data": {
      "application/javascript": [
       "\n",
       "        if (window._pyforest_update_imports_cell) { window._pyforest_update_imports_cell('import seaborn as sns\\nimport pandas as pd\\nimport matplotlib.pyplot as plt'); }\n",
       "    "
      ],
      "text/plain": [
       "<IPython.core.display.Javascript object>"
      ]
     },
     "metadata": {},
     "output_type": "display_data"
    },
    {
     "data": {
      "image/png": "[encoded data removed]",
      "text/plain": [
       "<Figure size 640x480 with 1 Axes>"
      ]
     },
     "metadata": {},
     "output_type": "display_data"
    }
   ],
   "source": [
    "#Without removing outliers\n",
    "\n",
    "#Create new dataframe which shows each customer id and how many times they have purchased in the last 12 months\n",
    "df_freq=df.groupby('CustomerContactID').count().reset_index()\n",
    "df_freq.drop(columns=['orderDate','Diff','Gross'],inplace=True)\n",
    "df_freq.drop(columns=['SKU','Category'],inplace=True)\n",
    "\n",
    "#output- show stats of the Days column\n",
    "print('Stats of Freq:')\n",
    "print(df_freq.describe())\n",
    "print('            ')      \n",
    "print('Distribution of Order#')\n",
    "print(df_freq['OrderNo'].value_counts())\n",
    "\n",
    "#Distribution on a graph\n",
    "plt.plot(df_freq['OrderNo'].value_counts())\n",
    "\n",
    "sns.boxplot(x='OrderNo',data=df_freq)\n",
    "\n",
    "#Get the information of the quartile in variables to be used later for bucketing\n",
    "stats=df_freq.describe()\n",
    "stats=stats.reset_index()\n",
    "stats.rename(columns={'index':'Measure'},inplace=True)\n",
    "q1=stats[stats['Measure']=='25%'].to_numpy()\n",
    "q2=stats[stats['Measure']=='50%'].to_numpy()\n",
    "q3=stats[stats['Measure']=='75%'].to_numpy()\n",
    "\n",
    "Q1_freq=q1[0][1]\n",
    "Q2_freq=q2[0][1]\n",
    "Q3_freq=q3[0][1]"
   ]
  },
  {
   "cell_type": "code",
   "execution_count": 12,
   "id": "1a18fbc4",
   "metadata": {},
   "outputs": [
    {
     "name": "stdout",
     "output_type": "stream",
     "text": [
      "Stats of Freq:\n",
      "            OrderNo\n",
      "count  5.749589e+06\n",
      "mean   1.898023e+00\n",
      "std    1.124387e+00\n",
      "min    1.000000e+00\n",
      "25%    1.000000e+00\n",
      "50%    2.000000e+00\n",
      "75%    2.000000e+00\n",
      "max    5.000000e+00\n",
      "            \n",
      "Distribution of Order#\n",
      "1    2823259\n",
      "2    1585686\n",
      "3     682308\n",
      "4     420382\n",
      "5     237954\n",
      "Name: OrderNo, dtype: int64\n"
     ]
    },
    {
     "data": {
      "application/javascript": [
       "\n",
       "        if (window._pyforest_update_imports_cell) { window._pyforest_update_imports_cell('import seaborn as sns\\nimport pandas as pd\\nimport matplotlib.pyplot as plt'); }\n",
       "    "
      ],
      "text/plain": [
       "<IPython.core.display.Javascript object>"
      ]
     },
     "metadata": {},
     "output_type": "display_data"
    },
    {
     "data": {
      "application/javascript": [
       "\n",
       "        if (window._pyforest_update_imports_cell) { window._pyforest_update_imports_cell('import seaborn as sns\\nimport pandas as pd\\nimport matplotlib.pyplot as plt'); }\n",
       "    "
      ],
      "text/plain": [
       "<IPython.core.display.Javascript object>"
      ]
     },
     "metadata": {},
     "output_type": "display_data"
    },
    {
     "data": {
      "image/png": "[encoded data removed]",
      "text/plain": [
       "<Figure size 640x480 with 1 Axes>"
      ]
     },
     "metadata": {},
     "output_type": "display_data"
    }
   ],
   "source": [
    "#Calculating the Upper limit and lower limit for outlier detection\n",
    "\n",
    "IQR_freq=Q3_freq-Q1_freq\n",
    "Up_freq=Q3_freq+(1.5*IQR_freq)\n",
    "Lo_freq=Q1_freq-(1.5*IQR_freq)\n",
    "\n",
    "\n",
    "#After removing outliers\n",
    "df_freq=df_freq[(df_freq['OrderNo']<Up_freq) & (df_freq['OrderNo']>Lo_freq)]\n",
    "\n",
    "#output- show stats of the Days column\n",
    "print('Stats of Freq:')\n",
    "print(df_freq.describe())\n",
    "print('            ')      \n",
    "print('Distribution of Order#')\n",
    "print(df_freq['OrderNo'].value_counts())\n",
    "\n",
    "#Distribution on a graph\n",
    "plt.plot(df_freq['OrderNo'].value_counts())\n",
    "\n",
    "sns.boxplot(x='OrderNo',data=df_freq)\n",
    "\n",
    "#Get the information of the quartile in variables to be used later for bucketing\n",
    "stats=df_freq.describe()\n",
    "stats=stats.reset_index()\n",
    "stats.rename(columns={'index':'Measure'},inplace=True)\n",
    "q1=stats[stats['Measure']=='25%'].to_numpy()\n",
    "q2=stats[stats['Measure']=='50%'].to_numpy()\n",
    "q3=stats[stats['Measure']=='75%'].to_numpy()\n",
    "\n",
    "Q1_freq=q1[0][1]\n",
    "Q2_freq=q2[0][1]\n",
    "Q3_freq=q3[0][1]"
   ]
  },
  {
   "cell_type": "code",
   "execution_count": 13,
   "id": "2f8e6b2f",
   "metadata": {},
   "outputs": [
    {
     "data": {
      "text/plain": [
       "(5749589, 2)"
      ]
     },
     "execution_count": 13,
     "metadata": {},
     "output_type": "execute_result"
    }
   ],
   "source": [
    "df_freq.shape"
   ]
  },
  {
   "cell_type": "markdown",
   "id": "77616645",
   "metadata": {},
   "source": [
    "### Monetary"
   ]
  },
  {
   "cell_type": "code",
   "execution_count": 14,
   "id": "cbe78ced",
   "metadata": {},
   "outputs": [
    {
     "name": "stdout",
     "output_type": "stream",
     "text": [
      "Stats of Revenue:\n",
      "              Gross\n",
      "count  6.231728e+06\n",
      "mean   7.342319e+04\n",
      "std    2.746105e+05\n",
      "min   -1.827000e+04\n",
      "25%    2.180000e+03\n",
      "50%    1.706400e+04\n",
      "75%    6.767700e+04\n",
      "max    1.225857e+08\n"
     ]
    },
    {
     "data": {
      "application/javascript": [
       "\n",
       "        if (window._pyforest_update_imports_cell) { window._pyforest_update_imports_cell('import seaborn as sns\\nimport pandas as pd\\nimport matplotlib.pyplot as plt'); }\n",
       "    "
      ],
      "text/plain": [
       "<IPython.core.display.Javascript object>"
      ]
     },
     "metadata": {},
     "output_type": "display_data"
    },
    {
     "data": {
      "application/javascript": [
       "\n",
       "        if (window._pyforest_update_imports_cell) { window._pyforest_update_imports_cell('import seaborn as sns\\nimport pandas as pd\\nimport matplotlib.pyplot as plt'); }\n",
       "    "
      ],
      "text/plain": [
       "<IPython.core.display.Javascript object>"
      ]
     },
     "metadata": {},
     "output_type": "display_data"
    },
    {
     "data": {
      "image/png": "[encoded data removed]",
      "text/plain": [
       "<Figure size 640x480 with 1 Axes>"
      ]
     },
     "metadata": {},
     "output_type": "display_data"
    }
   ],
   "source": [
    "#Without removing outlier\n",
    "\n",
    "df_rev=df.groupby('CustomerContactID').sum().reset_index()\n",
    "df_rev=df_rev.iloc[1:]\n",
    "df_rev['Gross']=df_rev['Gross'].astype(str).astype(float)\n",
    "df_rev.drop(columns=['Diff','SKU'],inplace=True)\n",
    "\n",
    "\n",
    "print('Stats of Revenue:')\n",
    "print(df_rev.describe())\n",
    "sns.distplot(df_rev['Gross'],bins=20,kde=True)\n",
    "sns.boxplot(x='Gross',data=df_rev)\n",
    "\n",
    "stats=df.describe()\n",
    "stats=stats.reset_index()\n",
    "stats.rename(columns={'index':'Measure'},inplace=True)\n",
    "q1=stats[stats['Measure']=='25%'].to_numpy()\n",
    "q2=stats[stats['Measure']=='50%'].to_numpy()\n",
    "q3=stats[stats['Measure']=='75%'].to_numpy()\n",
    "\n",
    "Q1_mon=q1[0][1]\n",
    "Q2_mon=q2[0][1]\n",
    "Q3_mon=q3[0][1]"
   ]
  },
  {
   "cell_type": "code",
   "execution_count": 15,
   "id": "adb61321",
   "metadata": {},
   "outputs": [
    {
     "name": "stdout",
     "output_type": "stream",
     "text": [
      "Stats of Revenue:\n",
      "              Gross\n",
      "count  5.097445e+06\n",
      "mean   2.081302e+04\n",
      "std    2.542321e+04\n",
      "min   -1.827000e+04\n",
      "25%    1.699000e+03\n",
      "50%    8.368200e+03\n",
      "75%    3.258000e+04\n",
      "max    1.024914e+05\n"
     ]
    },
    {
     "data": {
      "application/javascript": [
       "\n",
       "        if (window._pyforest_update_imports_cell) { window._pyforest_update_imports_cell('import seaborn as sns\\nimport pandas as pd\\nimport matplotlib.pyplot as plt'); }\n",
       "    "
      ],
      "text/plain": [
       "<IPython.core.display.Javascript object>"
      ]
     },
     "metadata": {},
     "output_type": "display_data"
    },
    {
     "data": {
      "application/javascript": [
       "\n",
       "        if (window._pyforest_update_imports_cell) { window._pyforest_update_imports_cell('import seaborn as sns\\nimport pandas as pd\\nimport matplotlib.pyplot as plt'); }\n",
       "    "
      ],
      "text/plain": [
       "<IPython.core.display.Javascript object>"
      ]
     },
     "metadata": {},
     "output_type": "display_data"
    },
    {
     "data": {
      "image/png": "[encoded data removed]",
      "text/plain": [
       "<Figure size 640x480 with 1 Axes>"
      ]
     },
     "metadata": {},
     "output_type": "display_data"
    }
   ],
   "source": [
    "IQR_mon=Q3_mon-Q1_mon\n",
    "Up_mon=Q3_mon+(1.5*IQR_mon)\n",
    "Lo_mon=Q1_mon-(1.5*IQR_mon)\n",
    "\n",
    "#After removing outlier\n",
    "df_rev=df_rev[(df_rev['Gross']<Up_mon) & (df_rev['Gross']>Lo_mon)]\n",
    "\n",
    "\n",
    "print('Stats of Revenue:')\n",
    "print(df_rev.describe())\n",
    "sns.distplot(df_rev['Gross'],bins=20,kde=True)\n",
    "sns.boxplot(x='Gross',data=df_rev)\n",
    "\n",
    "stats=df.describe()\n",
    "stats=stats.reset_index()\n",
    "stats.rename(columns={'index':'Measure'},inplace=True)\n",
    "q1=stats[stats['Measure']=='25%'].to_numpy()\n",
    "q2=stats[stats['Measure']=='50%'].to_numpy()\n",
    "q3=stats[stats['Measure']=='75%'].to_numpy()\n",
    "\n",
    "Q1_mon=q1[0][1]\n",
    "Q2_mon=q2[0][1]\n",
    "Q3_mon=q3[0][1]"
   ]
  },
  {
   "cell_type": "code",
   "execution_count": 16,
   "id": "4aa173ae",
   "metadata": {},
   "outputs": [
    {
     "data": {
      "text/plain": [
       "(5097445, 2)"
      ]
     },
     "execution_count": 16,
     "metadata": {},
     "output_type": "execute_result"
    }
   ],
   "source": [
    "df_rev.shape"
   ]
  },
  {
   "cell_type": "markdown",
   "id": "07a844e2",
   "metadata": {},
   "source": [
    "### RFM dataframe"
   ]
  },
  {
   "cell_type": "code",
   "execution_count": 17,
   "id": "6b2e72d2",
   "metadata": {},
   "outputs": [],
   "source": [
    "#create a common dataframe for all customers to be scored\n",
    "df_rfm=((df_rec.merge(df_rev,on='CustomerContactID').merge(df_freq,on='CustomerContactID')).merge(df_SKU,on='CustomerContactID'))"
   ]
  },
  {
   "cell_type": "code",
   "execution_count": 18,
   "id": "a836a4a3",
   "metadata": {},
   "outputs": [
    {
     "data": {
      "text/html": [
       "<div>\n",
       "<style scoped>\n",
       "    .dataframe tbody tr th:only-of-type {\n",
       "        vertical-align: middle;\n",
       "    }\n",
       "\n",
       "    .dataframe tbody tr th {\n",
       "        vertical-align: top;\n",
       "    }\n",
       "\n",
       "    .dataframe thead th {\n",
       "        text-align: right;\n",
       "    }\n",
       "</style>\n",
       "<table border=\"1\" class=\"dataframe\">\n",
       "  <thead>\n",
       "    <tr style=\"text-align: right;\">\n",
       "      <th></th>\n",
       "      <th>CustomerContactID</th>\n",
       "      <th>Diff</th>\n",
       "      <th>Gross</th>\n",
       "      <th>OrderNo</th>\n",
       "      <th>SKU</th>\n",
       "    </tr>\n",
       "  </thead>\n",
       "  <tbody>\n",
       "    <tr>\n",
       "      <th>2733392</th>\n",
       "      <td>8c40ae87376d292c0a784cc719d1bda0</td>\n",
       "      <td>355</td>\n",
       "      <td>6688.0</td>\n",
       "      <td>3</td>\n",
       "      <td>240368.0</td>\n",
       "    </tr>\n",
       "    <tr>\n",
       "      <th>2831414</th>\n",
       "      <td>90a1eeeec1966bf4e1fced87537f4940</td>\n",
       "      <td>363</td>\n",
       "      <td>521.0</td>\n",
       "      <td>2</td>\n",
       "      <td>220331.0</td>\n",
       "    </tr>\n",
       "    <tr>\n",
       "      <th>1680073</th>\n",
       "      <td>5a5094fa83175c0fe68165aa56050ca8</td>\n",
       "      <td>265</td>\n",
       "      <td>2495.0</td>\n",
       "      <td>1</td>\n",
       "      <td>209487.0</td>\n",
       "    </tr>\n",
       "    <tr>\n",
       "      <th>2850384</th>\n",
       "      <td>9148156946</td>\n",
       "      <td>57</td>\n",
       "      <td>4890.0</td>\n",
       "      <td>1</td>\n",
       "      <td>227708.0</td>\n",
       "    </tr>\n",
       "    <tr>\n",
       "      <th>4152825</th>\n",
       "      <td>cd88950c3f756c815d5f25bc159ab749</td>\n",
       "      <td>86</td>\n",
       "      <td>2976.0</td>\n",
       "      <td>2</td>\n",
       "      <td>253703.0</td>\n",
       "    </tr>\n",
       "  </tbody>\n",
       "</table>\n",
       "</div>"
      ],
      "text/plain": [
       "                        CustomerContactID  Diff   Gross  OrderNo       SKU\n",
       "2733392  8c40ae87376d292c0a784cc719d1bda0   355  6688.0        3  240368.0\n",
       "2831414  90a1eeeec1966bf4e1fced87537f4940   363   521.0        2  220331.0\n",
       "1680073  5a5094fa83175c0fe68165aa56050ca8   265  2495.0        1  209487.0\n",
       "2850384                        9148156946    57  4890.0        1  227708.0\n",
       "4152825  cd88950c3f756c815d5f25bc159ab749    86  2976.0        2  253703.0"
      ]
     },
     "execution_count": 18,
     "metadata": {},
     "output_type": "execute_result"
    }
   ],
   "source": [
    "df_rfm.sample(5)"
   ]
  },
  {
   "cell_type": "code",
   "execution_count": 19,
   "id": "17f7de6f",
   "metadata": {},
   "outputs": [
    {
     "data": {
      "text/plain": [
       "(5011440, 5)"
      ]
     },
     "execution_count": 19,
     "metadata": {},
     "output_type": "execute_result"
    }
   ],
   "source": [
    "df_rfm.shape"
   ]
  },
  {
   "cell_type": "markdown",
   "id": "63d2b333",
   "metadata": {},
   "source": [
    "### Dataloss check"
   ]
  },
  {
   "cell_type": "code",
   "execution_count": 20,
   "id": "b6c95708",
   "metadata": {},
   "outputs": [
    {
     "data": {
      "text/plain": [
       "19.581868852127556"
      ]
     },
     "execution_count": 20,
     "metadata": {},
     "output_type": "execute_result"
    }
   ],
   "source": [
    "((df['CustomerContactID'].nunique()-df_rfm['CustomerContactID'].nunique())/df['CustomerContactID'].nunique())*100"
   ]
  },
  {
   "cell_type": "markdown",
   "id": "2a40d87a",
   "metadata": {},
   "source": [
    "### Ranking"
   ]
  },
  {
   "cell_type": "code",
   "execution_count": 21,
   "id": "2bb0f9f3",
   "metadata": {
    "scrolled": true
   },
   "outputs": [],
   "source": [
    "#recency rank\n",
    "rec=[]\n",
    "for i in df_rfm['Diff']:\n",
    "    if(i<=Q1_rec):\n",
    "        rec.append(1)\n",
    "    elif(i>Q1_rec and i<=Q2_rec):\n",
    "        rec.append(2)\n",
    "    elif(i>Q2_rec and i<=Q3_rec):\n",
    "        rec.append(3)\n",
    "    elif(i>Q3_rec):\n",
    "        rec.append(4)\n",
    "    else:\n",
    "        freq.append(0)\n",
    "df_rfm['rec']=rec\n",
    "\n",
    "#frequency rank\n",
    "freq=[]\n",
    "for i in df_rfm['OrderNo']:\n",
    "    if(i<=1):\n",
    "        freq.append(4)\n",
    "    elif(i>1 and i<=2):\n",
    "        freq.append(3)\n",
    "    elif(i>2 and i<=3):\n",
    "        freq.append(2)\n",
    "    elif(i>3):\n",
    "        freq.append(1)\n",
    "    else:\n",
    "        freq.append(0)\n",
    "df_rfm['freq']=freq\n",
    "\n",
    "#monetary rank\n",
    "mon=[]\n",
    "for i in df_rfm['Gross']:\n",
    "    if(i<=Q1_mon):\n",
    "        mon.append(4)\n",
    "    elif(i>Q1_mon and i<=Q2_mon):\n",
    "        mon.append(3)\n",
    "    elif(i>Q2_mon and i<=Q3_mon):\n",
    "        mon.append(2)\n",
    "    elif(i>Q3_mon):\n",
    "        mon.append(1)\n",
    "    else:\n",
    "        mon.append(0)\n",
    "df_rfm['mon']=mon\n",
    "\n",
    "\n",
    "#create a dataframe dormant which has ids of customers whose recency rank is >3(i.e more than 90 days)\n",
    "\n",
    "dormant=df_rfm[df_rfm['rec']>1]\n",
    "\n",
    "#create an exclusion dataframe for dormant where freq and monetary ranking is less than 3(i.e not completely lost)\n",
    "dormant_excl=dormant[dormant['freq']<2].merge(dormant[dormant['mon']<=2 ])\n",
    "\n",
    "#Output\n",
    "df_rfm\n",
    "df_rfm.to_csv('Ranked_users.csv')"
   ]
  },
  {
   "cell_type": "code",
   "execution_count": 22,
   "id": "11f5f021",
   "metadata": {},
   "outputs": [],
   "source": [
    "df_rfm['rec']=df_rfm['rec'].astype(str)\n",
    "df_rfm['freq']=df_rfm['freq'].astype(str)\n",
    "df_rfm['mon']=df_rfm['mon'].astype(str)\n",
    "df_rfm['Rank']=df_rfm['rec']+df_rfm['freq']+df_rfm['mon']\n",
    "\n",
    "df_rfm['rec']=df_rfm['rec'].astype(str)\n",
    "df_rfm['freq']=df_rfm['freq'].astype(str)\n",
    "df_rfm['mon']=df_rfm['mon'].astype(str)\n",
    "df_rfm['Rank']=df_rfm['rec']+df_rfm['freq']+df_rfm['mon']"
   ]
  },
  {
   "cell_type": "code",
   "execution_count": 23,
   "id": "9f70f12c",
   "metadata": {},
   "outputs": [
    {
     "data": {
      "text/html": [
       "<div>\n",
       "<style scoped>\n",
       "    .dataframe tbody tr th:only-of-type {\n",
       "        vertical-align: middle;\n",
       "    }\n",
       "\n",
       "    .dataframe tbody tr th {\n",
       "        vertical-align: top;\n",
       "    }\n",
       "\n",
       "    .dataframe thead th {\n",
       "        text-align: right;\n",
       "    }\n",
       "</style>\n",
       "<table border=\"1\" class=\"dataframe\">\n",
       "  <thead>\n",
       "    <tr style=\"text-align: right;\">\n",
       "      <th></th>\n",
       "      <th>CustomerContactID</th>\n",
       "      <th>Diff</th>\n",
       "      <th>Gross</th>\n",
       "      <th>OrderNo</th>\n",
       "      <th>SKU</th>\n",
       "      <th>rec</th>\n",
       "      <th>freq</th>\n",
       "      <th>mon</th>\n",
       "      <th>Rank</th>\n",
       "    </tr>\n",
       "  </thead>\n",
       "  <tbody>\n",
       "    <tr>\n",
       "      <th>4282137</th>\n",
       "      <td>d5171e65f5991d3cc22bfc93778183d0</td>\n",
       "      <td>324</td>\n",
       "      <td>40332.0</td>\n",
       "      <td>2</td>\n",
       "      <td>247232.0</td>\n",
       "      <td>4</td>\n",
       "      <td>3</td>\n",
       "      <td>2</td>\n",
       "      <td>432</td>\n",
       "    </tr>\n",
       "    <tr>\n",
       "      <th>2839322</th>\n",
       "      <td>9106341664</td>\n",
       "      <td>160</td>\n",
       "      <td>599.0</td>\n",
       "      <td>1</td>\n",
       "      <td>250330.0</td>\n",
       "      <td>3</td>\n",
       "      <td>4</td>\n",
       "      <td>4</td>\n",
       "      <td>344</td>\n",
       "    </tr>\n",
       "    <tr>\n",
       "      <th>3432536</th>\n",
       "      <td>a335b48e99b39d06f18130bba6883752</td>\n",
       "      <td>301</td>\n",
       "      <td>51897.0</td>\n",
       "      <td>2</td>\n",
       "      <td>248586.0</td>\n",
       "      <td>4</td>\n",
       "      <td>3</td>\n",
       "      <td>1</td>\n",
       "      <td>431</td>\n",
       "    </tr>\n",
       "    <tr>\n",
       "      <th>1738236</th>\n",
       "      <td>5db8bef8ee4445d90cd4b12f8110424b</td>\n",
       "      <td>6</td>\n",
       "      <td>31039.0</td>\n",
       "      <td>2</td>\n",
       "      <td>257259.0</td>\n",
       "      <td>1</td>\n",
       "      <td>3</td>\n",
       "      <td>2</td>\n",
       "      <td>132</td>\n",
       "    </tr>\n",
       "    <tr>\n",
       "      <th>4180159</th>\n",
       "      <td>cf20bc3790daab9878ae25b466169002</td>\n",
       "      <td>156</td>\n",
       "      <td>49938.6</td>\n",
       "      <td>2</td>\n",
       "      <td>246071.0</td>\n",
       "      <td>3</td>\n",
       "      <td>3</td>\n",
       "      <td>1</td>\n",
       "      <td>331</td>\n",
       "    </tr>\n",
       "  </tbody>\n",
       "</table>\n",
       "</div>"
      ],
      "text/plain": [
       "                        CustomerContactID  Diff    Gross  OrderNo       SKU  \\\n",
       "4282137  d5171e65f5991d3cc22bfc93778183d0   324  40332.0        2  247232.0   \n",
       "2839322                        9106341664   160    599.0        1  250330.0   \n",
       "3432536  a335b48e99b39d06f18130bba6883752   301  51897.0        2  248586.0   \n",
       "1738236  5db8bef8ee4445d90cd4b12f8110424b     6  31039.0        2  257259.0   \n",
       "4180159  cf20bc3790daab9878ae25b466169002   156  49938.6        2  246071.0   \n",
       "\n",
       "        rec freq mon Rank  \n",
       "4282137   4    3   2  432  \n",
       "2839322   3    4   4  344  \n",
       "3432536   4    3   1  431  \n",
       "1738236   1    3   2  132  \n",
       "4180159   3    3   1  331  "
      ]
     },
     "execution_count": 23,
     "metadata": {},
     "output_type": "execute_result"
    }
   ],
   "source": [
    "df_rfm.sample(5)"
   ]
  },
  {
   "cell_type": "code",
   "execution_count": 24,
   "id": "e937d740",
   "metadata": {},
   "outputs": [
    {
     "data": {
      "text/plain": [
       "(5011440, 9)"
      ]
     },
     "execution_count": 24,
     "metadata": {},
     "output_type": "execute_result"
    }
   ],
   "source": [
    "df_rfm.shape"
   ]
  },
  {
   "cell_type": "code",
   "execution_count": 25,
   "id": "1283ebc4",
   "metadata": {},
   "outputs": [
    {
     "data": {
      "text/plain": [
       "64"
      ]
     },
     "execution_count": 25,
     "metadata": {},
     "output_type": "execute_result"
    }
   ],
   "source": [
    "df_rfm['Rank'].nunique()"
   ]
  },
  {
   "cell_type": "code",
   "execution_count": 26,
   "id": "ce6aaa85",
   "metadata": {},
   "outputs": [],
   "source": [
    "#df_rfm_final=df_rfm[['CustomerContactID','Rank']]"
   ]
  },
  {
   "cell_type": "code",
   "execution_count": 27,
   "id": "7cc3c4c7",
   "metadata": {},
   "outputs": [
    {
     "data": {
      "application/javascript": [
       "\n",
       "        if (window._pyforest_update_imports_cell) { window._pyforest_update_imports_cell('import seaborn as sns\\nimport pandas as pd\\nimport matplotlib.pyplot as plt'); }\n",
       "    "
      ],
      "text/plain": [
       "<IPython.core.display.Javascript object>"
      ]
     },
     "metadata": {},
     "output_type": "display_data"
    },
    {
     "data": {
      "application/javascript": [
       "\n",
       "        if (window._pyforest_update_imports_cell) { window._pyforest_update_imports_cell('import seaborn as sns\\nimport pandas as pd\\nimport matplotlib.pyplot as plt'); }\n",
       "    "
      ],
      "text/plain": [
       "<IPython.core.display.Javascript object>"
      ]
     },
     "metadata": {},
     "output_type": "display_data"
    },
    {
     "data": {
      "text/plain": [
       "<AxesSubplot: xlabel='Rank', ylabel='Count'>"
      ]
     },
     "execution_count": 27,
     "metadata": {},
     "output_type": "execute_result"
    },
    {
     "data": {
      "image/png": "[encoded data removed]",
      "text/plain": [
       "<Figure size 2500x500 with 1 Axes>"
      ]
     },
     "metadata": {},
     "output_type": "display_data"
    }
   ],
   "source": [
    "df_rfm.sort_values(by=['Rank'],inplace=True)\n",
    "f = plt.figure()\n",
    "f.set_figwidth(25)\n",
    "f.set_figheight(5)\n",
    "sns.histplot(df_rfm['Rank'])"
   ]
  },
  {
   "cell_type": "markdown",
   "id": "b89b4fd0",
   "metadata": {},
   "source": [
    "### Creating clusters"
   ]
  },
  {
   "cell_type": "markdown",
   "id": "e3aa1f26",
   "metadata": {},
   "source": [
    "#### Finding the appropriate number of clusters basis kmean clustering"
   ]
  },
  {
   "cell_type": "code",
   "execution_count": 28,
   "id": "073490d1",
   "metadata": {},
   "outputs": [],
   "source": [
    "df_rfm_init=df_rfm[['Diff','Gross','OrderNo']]"
   ]
  },
  {
   "cell_type": "code",
   "execution_count": 29,
   "id": "b85e9ef5",
   "metadata": {},
   "outputs": [],
   "source": [
    "from sklearn.cluster import KMeans"
   ]
  },
  {
   "cell_type": "code",
   "execution_count": 30,
   "id": "7c92a4c2",
   "metadata": {},
   "outputs": [
    {
     "data": {
      "text/html": [
       "<style>#sk-container-id-1 {color: black;background-color: white;}#sk-container-id-1 pre{padding: 0;}#sk-container-id-1 div.sk-toggleable {background-color: white;}#sk-container-id-1 label.sk-toggleable__label {cursor: pointer;display: block;width: 100%;margin-bottom: 0;padding: 0.3em;box-sizing: border-box;text-align: center;}#sk-container-id-1 label.sk-toggleable__label-arrow:before {content: \"▸\";float: left;margin-right: 0.25em;color: #696969;}#sk-container-id-1 label.sk-toggleable__label-arrow:hover:before {color: black;}#sk-container-id-1 div.sk-estimator:hover label.sk-toggleable__label-arrow:before {color: black;}#sk-container-id-1 div.sk-toggleable__content {max-height: 0;max-width: 0;overflow: hidden;text-align: left;background-color: #f0f8ff;}#sk-container-id-1 div.sk-toggleable__content pre {margin: 0.2em;color: black;border-radius: 0.25em;background-color: #f0f8ff;}#sk-container-id-1 input.sk-toggleable__control:checked~div.sk-toggleable__content {max-height: 200px;max-width: 100%;overflow: auto;}#sk-container-id-1 input.sk-toggleable__control:checked~label.sk-toggleable__label-arrow:before {content: \"▾\";}#sk-container-id-1 div.sk-estimator input.sk-toggleable__control:checked~label.sk-toggleable__label {background-color: #d4ebff;}#sk-container-id-1 div.sk-label input.sk-toggleable__control:checked~label.sk-toggleable__label {background-color: #d4ebff;}#sk-container-id-1 input.sk-hidden--visually {border: 0;clip: rect(1px 1px 1px 1px);clip: rect(1px, 1px, 1px, 1px);height: 1px;margin: -1px;overflow: hidden;padding: 0;position: absolute;width: 1px;}#sk-container-id-1 div.sk-estimator {font-family: monospace;background-color: #f0f8ff;border: 1px dotted black;border-radius: 0.25em;box-sizing: border-box;margin-bottom: 0.5em;}#sk-container-id-1 div.sk-estimator:hover {background-color: #d4ebff;}#sk-container-id-1 div.sk-parallel-item::after {content: \"\";width: 100%;border-bottom: 1px solid gray;flex-grow: 1;}#sk-container-id-1 div.sk-label:hover label.sk-toggleable__label {background-color: #d4ebff;}#sk-container-id-1 div.sk-serial::before {content: \"\";position: absolute;border-left: 1px solid gray;box-sizing: border-box;top: 0;bottom: 0;left: 50%;z-index: 0;}#sk-container-id-1 div.sk-serial {display: flex;flex-direction: column;align-items: center;background-color: white;padding-right: 0.2em;padding-left: 0.2em;position: relative;}#sk-container-id-1 div.sk-item {position: relative;z-index: 1;}#sk-container-id-1 div.sk-parallel {display: flex;align-items: stretch;justify-content: center;background-color: white;position: relative;}#sk-container-id-1 div.sk-item::before, #sk-container-id-1 div.sk-parallel-item::before {content: \"\";position: absolute;border-left: 1px solid gray;box-sizing: border-box;top: 0;bottom: 0;left: 50%;z-index: -1;}#sk-container-id-1 div.sk-parallel-item {display: flex;flex-direction: column;z-index: 1;position: relative;background-color: white;}#sk-container-id-1 div.sk-parallel-item:first-child::after {align-self: flex-end;width: 50%;}#sk-container-id-1 div.sk-parallel-item:last-child::after {align-self: flex-start;width: 50%;}#sk-container-id-1 div.sk-parallel-item:only-child::after {width: 0;}#sk-container-id-1 div.sk-dashed-wrapped {border: 1px dashed gray;margin: 0 0.4em 0.5em 0.4em;box-sizing: border-box;padding-bottom: 0.4em;background-color: white;}#sk-container-id-1 div.sk-label label {font-family: monospace;font-weight: bold;display: inline-block;line-height: 1.2em;}#sk-container-id-1 div.sk-label-container {text-align: center;}#sk-container-id-1 div.sk-container {/* jupyter's `normalize.less` sets `[hidden] { display: none; }` but bootstrap.min.css set `[hidden] { display: none !important; }` so we also need the `!important` here to be able to override the default hidden behavior on the sphinx rendered scikit-learn.org. See: https://github.com/scikit-learn/scikit-learn/issues/21755 */display: inline-block !important;position: relative;}#sk-container-id-1 div.sk-text-repr-fallback {display: none;}</style><div id=\"sk-container-id-1\" class=\"sk-top-container\"><div class=\"sk-text-repr-fallback\"><pre>KMeans(max_iter=10, n_clusters=4)</pre><b>In a Jupyter environment, please rerun this cell to show the HTML representation or trust the notebook. <br />On GitHub, the HTML representation is unable to render, please try loading this page with nbviewer.org.</b></div><div class=\"sk-container\" hidden><div class=\"sk-item\"><div class=\"sk-estimator sk-toggleable\"><input class=\"sk-toggleable__control sk-hidden--visually\" id=\"sk-estimator-id-1\" type=\"checkbox\" checked><label for=\"sk-estimator-id-1\" class=\"sk-toggleable__label sk-toggleable__label-arrow\">KMeans</label><div class=\"sk-toggleable__content\"><pre>KMeans(max_iter=10, n_clusters=4)</pre></div></div></div></div></div>"
      ],
      "text/plain": [
       "KMeans(max_iter=10, n_clusters=4)"
      ]
     },
     "execution_count": 30,
     "metadata": {},
     "output_type": "execute_result"
    }
   ],
   "source": [
    "kmeans=KMeans(n_clusters=4,max_iter=10)\n",
    "kmeans.fit(df_rfm_init)"
   ]
  },
  {
   "cell_type": "code",
   "execution_count": 31,
   "id": "ae082d08",
   "metadata": {},
   "outputs": [
    {
     "data": {
      "text/plain": [
       "170005095928659.2"
      ]
     },
     "execution_count": 31,
     "metadata": {},
     "output_type": "execute_result"
    }
   ],
   "source": [
    "kmeans.inertia_"
   ]
  },
  {
   "cell_type": "code",
   "execution_count": 32,
   "id": "7273678e",
   "metadata": {},
   "outputs": [],
   "source": [
    "elbow=[]\n",
    "cluster_range=[2,4,6,8,10]\n",
    "for i in cluster_range:\n",
    "    kmeans=KMeans(n_clusters=i,max_iter=10)\n",
    "    kmeans.fit(df_rfm_init)\n",
    "    elbow.append(kmeans.inertia_)"
   ]
  },
  {
   "cell_type": "code",
   "execution_count": 33,
   "id": "2e085019",
   "metadata": {},
   "outputs": [
    {
     "data": {
      "application/javascript": [
       "\n",
       "        if (window._pyforest_update_imports_cell) { window._pyforest_update_imports_cell('import seaborn as sns\\nimport pandas as pd\\nimport matplotlib.pyplot as plt'); }\n",
       "    "
      ],
      "text/plain": [
       "<IPython.core.display.Javascript object>"
      ]
     },
     "metadata": {},
     "output_type": "display_data"
    },
    {
     "data": {
      "text/plain": [
       "[<matplotlib.lines.Line2D at 0x1c3a4419910>]"
      ]
     },
     "execution_count": 33,
     "metadata": {},
     "output_type": "execute_result"
    },
    {
     "data": {
      "image/png": "[encoded data removed]",
      "text/plain": [
       "<Figure size 640x480 with 1 Axes>"
      ]
     },
     "metadata": {},
     "output_type": "display_data"
    }
   ],
   "source": [
    "plt.plot(elbow)"
   ]
  },
  {
   "cell_type": "markdown",
   "id": "2a97304d",
   "metadata": {},
   "source": [
    "Inertia measures how well a dataset was clustered by K-Means. It is calculated by measuring the distance between each data point and its centroid, squaring this distance, and summing these squares across one cluster. A good model is one with low inertia AND a low number of clusters ( K )."
   ]
  },
  {
   "cell_type": "markdown",
   "id": "ff666552",
   "metadata": {},
   "source": [
    "### Finding the Silhouette score"
   ]
  },
  {
   "cell_type": "code",
   "execution_count": 34,
   "id": "590fadab",
   "metadata": {},
   "outputs": [
    {
     "data": {
      "text/plain": [
       "Diff       True\n",
       "Gross      True\n",
       "OrderNo    True\n",
       "dtype: bool"
      ]
     },
     "execution_count": 34,
     "metadata": {},
     "output_type": "execute_result"
    }
   ],
   "source": [
    "#What is label- this is the rank given to each point in the cluster\n",
    "len(kmeans.labels_)==df_rfm_init.count()"
   ]
  },
  {
   "cell_type": "code",
   "execution_count": 35,
   "id": "3b4bf0aa",
   "metadata": {},
   "outputs": [
    {
     "data": {
      "text/plain": [
       "array([9, 9, 0, 2, 9, 7, 7, 2, 2, 0])"
      ]
     },
     "execution_count": 35,
     "metadata": {},
     "output_type": "execute_result"
    }
   ],
   "source": [
    "kmeans.labels_[:10]"
   ]
  },
  {
   "cell_type": "code",
   "execution_count": 36,
   "id": "2c642e57",
   "metadata": {},
   "outputs": [],
   "source": [
    "from sklearn.metrics import silhouette_score"
   ]
  },
  {
   "cell_type": "code",
   "execution_count": 42,
   "id": "721488f6",
   "metadata": {},
   "outputs": [],
   "source": [
    "df_rfm_init_sample=df_rfm_init.sample(frac=.02)"
   ]
  },
  {
   "cell_type": "code",
   "execution_count": 43,
   "id": "65d7e2f2",
   "metadata": {},
   "outputs": [
    {
     "name": "stdout",
     "output_type": "stream",
     "text": [
      "Silhouette score for cluster2 is 0.7290429366018393\n",
      "Silhouette score for cluster4 is 0.68347279794476\n",
      "Silhouette score for cluster6 is 0.6625609333683996\n",
      "Silhouette score for cluster8 is 0.6384984566230064\n",
      "Silhouette score for cluster10 is 0.6386811621088959\n"
     ]
    }
   ],
   "source": [
    "cluster_range=[2,4,6,8,10]\n",
    "silhouette_avg=[]\n",
    "for i in cluster_range:\n",
    "    kmeans=KMeans(n_clusters=i,max_iter=10)\n",
    "    kmeans.fit(df_rfm_init_sample)\n",
    "    cluster_labels=kmeans.labels_\n",
    "    \n",
    "    #silhouette score: average of cluster labels for cluster count i\n",
    "    silhouette_avg=silhouette_score(df_rfm_init_sample, cluster_labels)\n",
    "    print('Silhouette score for cluster{0} is {1}'.format(i,silhouette_avg))"
   ]
  },
  {
   "cell_type": "markdown",
   "id": "8ed418fc",
   "metadata": {},
   "source": [
    "# Ranking for the top 30 percentile customers"
   ]
  },
  {
   "cell_type": "code",
   "execution_count": null,
   "id": "d4a23d24",
   "metadata": {},
   "outputs": [],
   "source": [
    "df_perc=pd.read_csv('top_30_pct_repeat_customers_jan_feb_mar_2023.csv')"
   ]
  },
  {
   "cell_type": "code",
   "execution_count": null,
   "id": "b6b4bc87",
   "metadata": {},
   "outputs": [],
   "source": [
    "df_com=df_rfm.merge(df_perc,on='CustomerContactID')"
   ]
  },
  {
   "cell_type": "code",
   "execution_count": null,
   "id": "bbd06ced",
   "metadata": {},
   "outputs": [],
   "source": [
    "df_com.shape,df_perc.shape,df_rfm.shape"
   ]
  },
  {
   "cell_type": "code",
   "execution_count": null,
   "id": "75664d6c",
   "metadata": {},
   "outputs": [],
   "source": [
    "df_com.sample(5)"
   ]
  },
  {
   "cell_type": "code",
   "execution_count": null,
   "id": "ef766be0",
   "metadata": {},
   "outputs": [],
   "source": [
    "df_perc.head(5)"
   ]
  },
  {
   "cell_type": "code",
   "execution_count": null,
   "id": "05c8ed37",
   "metadata": {},
   "outputs": [],
   "source": [
    "df_perc[df_perc['CustomerContactID']=='8967be861bc1edb99b93509141b45a20']"
   ]
  },
  {
   "cell_type": "code",
   "execution_count": null,
   "id": "a654cad6",
   "metadata": {},
   "outputs": [],
   "source": [
    "df_com.to_csv('RFM_Top30.csv')"
   ]
  },
  {
   "cell_type": "markdown",
   "id": "9620daa5",
   "metadata": {},
   "source": [
    "# Next Steps:\n",
    "1.\tTest RFM model on July for repeat buyer % for the 4 Recency buckets.\n",
    "2.\tPick samples for different recency buckets for separate models.\n",
    "3.\tBuild behavior variables – only those institutively correct and regress to build a Log. Reg. Model.\n",
    "    a.\tCreate RFM based variables and test against dep var on scatter plots. (bivariate).\n",
    "    b.\tAd campaign variables along with seasonal variables.\n",
    "    c.\tDelivery Zone (N/W/S).\n"
   ]
  },
  {
   "cell_type": "markdown",
   "id": "31ab58dd",
   "metadata": {},
   "source": [
    "Part 1: Create 4 recency buckets. See how many of these customers have purchased in July"
   ]
  },
  {
   "cell_type": "code",
   "execution_count": null,
   "id": "57c7f90a",
   "metadata": {},
   "outputs": [],
   "source": [
    "#Create seperate dataframes where each dataframe corresponds to each of the rank on recency(1,2,3,4)\n",
    "b1=df_rfm[df_rfm['rec']==1].drop(columns=['Diff','Gross','OrderNo'])\n",
    "b2=df_rfm[df_rfm['rec']==2].drop(columns=['Diff','Gross','OrderNo'])\n",
    "b3=df_rfm[df_rfm['rec']==3].drop(columns=['Diff','Gross','OrderNo'])\n",
    "b4=df_rfm[df_rfm['rec']==4].drop(columns=['Diff','Gross','OrderNo'])\n",
    "\n",
    "#Create a dataframe for July 22 data\n",
    "df_jul=pd.read_csv('SR-234242/jul22-sep22.csv')\n",
    "df_jul['orderDate']=pd.to_datetime(df_jul['orderDate'])\n",
    "df_jul['month']=df_jul['orderDate'].dt.month\n",
    "df_jul=df_jul[df_jul['month']==8]\n",
    "\n",
    "#Find out IDs who are common between rank 1 customers and July 22 customers\n",
    "df_b1_jul=b1.merge(df_jul,on=['CustomerContactID'])\n",
    "print((df_b1_jul['CustomerContactID'].nunique()/b1['CustomerContactID'].nunique())*100,'% of rank 1 customers buy in Jul 22')\n",
    "df_b1_jul=df_b1_jul[['CustomerContactID','rec','freq','mon']]\n",
    "\n",
    "#Find out IDs who are in b1 but not in Jul 22\n",
    "df_b1_not_jul=b1.merge(df_jul,on=['CustomerContactID'],\n",
    "                   how='left', indicator=True)\n",
    "df_b1_not_jul=df_b1_not_jul[df_b1_not_jul['_merge']=='left_only']\n",
    "df_b1_not_jul=df_b1_not_jul[['CustomerContactID','rec','freq','mon']]\n",
    "\n",
    "\n",
    "\n",
    "#Find out IDs who are common between rank 2 customers and July 22 customers\n",
    "df_b2_jul=b2.merge(df_jul,on=['CustomerContactID'])\n",
    "print((df_b2_jul['CustomerContactID'].nunique()/b2['CustomerContactID'].nunique())*100,'% of rank 2 customers buy in Jul 22')\n",
    "df_b2_jul=df_b1_jul[['CustomerContactID','rec','freq','mon']]\n",
    "\n",
    "#Find out IDs who are in b2 but not in Jul 22\n",
    "df_b2_not_jul=b2.merge(df_jul,on=['CustomerContactID'],\n",
    "                   how='left', indicator=True)\n",
    "df_b2_not_jul=df_b2_not_jul[df_b2_not_jul['_merge']=='left_only']\n",
    "df_b2_not_jul=df_b2_not_jul[['CustomerContactID','rec','freq','mon']]\n",
    "\n",
    "#Find out IDs who are common between rank 3 customers and July 22 customers\n",
    "df_b3_jul=b3.merge(df_jul,on=['CustomerContactID'])\n",
    "print((df_b3_jul['CustomerContactID'].nunique()/b3['CustomerContactID'].nunique())*100,'% of rank 3 customers buy in Jul 22')\n",
    "df_b3_jul=df_b1_jul[['CustomerContactID','rec','freq','mon']]\n",
    "\n",
    "#Find out IDs who are in b1 but not in Jul 22\n",
    "df_b3_not_jul=b3.merge(df_jul,on=['CustomerContactID'],\n",
    "                   how='left', indicator=True)\n",
    "df_b3_not_jul=df_b3_not_jul[df_b3_not_jul['_merge']=='left_only']\n",
    "df_b3_not_jul=df_b3_not_jul[['CustomerContactID','rec','freq','mon']]\n",
    "\n",
    "#Find out IDs who are common between rank 4 customers and July 22 customers\n",
    "df_b4_jul=b4.merge(df_jul,on=['CustomerContactID'])\n",
    "print((df_b4_jul['CustomerContactID'].nunique()/b4['CustomerContactID'].nunique())*100,'% of rank 4 customers buy in Jul 22')\n",
    "df_b4_jul=df_b1_jul[['CustomerContactID','rec','freq','mon']]\n",
    "\n",
    "#Find out IDs who are in b1 but not in Jul 22\n",
    "df_b4_not_jul=b4.merge(df_jul,on=['CustomerContactID'],\n",
    "                   how='left', indicator=True)\n",
    "df_b4_not_jul=df_b4_not_jul[df_b4_not_jul['_merge']=='left_only']\n",
    "df_b4_not_jul=df_b4_not_jul[['CustomerContactID','rec','freq','mon']]"
   ]
  },
  {
   "cell_type": "code",
   "execution_count": null,
   "id": "3147519d",
   "metadata": {},
   "outputs": [],
   "source": [
    "b1.nunique()"
   ]
  },
  {
   "cell_type": "markdown",
   "id": "f87adb3a",
   "metadata": {},
   "source": [
    "Create an init dataframe which contains independent factors from original data set, total purchase amount, purchase count and last date of purchase per customer ID. "
   ]
  },
  {
   "cell_type": "code",
   "execution_count": null,
   "id": "c7540827",
   "metadata": {},
   "outputs": [],
   "source": [
    "#create a dataframe for last 12 months which contains labelled values of customer IDs\n",
    "df_init_1=pd.concat([df1,df2,df3,df4],axis=0)\n",
    "\n",
    "#Clean up Quantity and keep rows only where Quantity>0\n",
    "df_init_1=df_init_1.replace(',','',regex=True)\n",
    "df_init_1['Quantity']=df_init_1['Quantity'].astype(str).astype(str).astype(float).astype(float)\n",
    "df_init_1['Gross']=df_init_1['Gross'].astype(str).astype(str).astype(float).astype(float)\n",
    "df_init_1=df_init_1[df_init_1['Quantity']>0]\n",
    "\n",
    "df_init_date=df_init_1.groupby('CustomerContactID').last().reset_index()\n",
    "df_init_date=df_init_date[['CustomerContactID','orderDate','SalesChannelCode','Quantity','Ticket']]\n",
    "\n",
    "df_init_freq=df_init_1.groupby('CustomerContactID').count().reset_index()\n",
    "df_init_freq=df_init_freq[['CustomerContactID','OrderNo']]\n",
    "\n",
    "df_init_mon=df_init_1.groupby('CustomerContactID').sum().reset_index()\n",
    "df_init_mon=df_init_mon[['CustomerContactID','Gross']]\n",
    "\n",
    "df_init_final=df_init_freq.merge(df_init_date.merge(df_init_mon,on='CustomerContactID'),on='CustomerContactID')\n",
    "df_init_final=df_init_final.iloc[1:]\n",
    "\n"
   ]
  },
  {
   "cell_type": "code",
   "execution_count": null,
   "id": "d5bc6813",
   "metadata": {},
   "outputs": [],
   "source": []
  },
  {
   "cell_type": "markdown",
   "id": "45d73961",
   "metadata": {},
   "source": [
    "Create a dataframe which contains customer IDs from bucket 1 who buy in July and who do not buy in July"
   ]
  },
  {
   "cell_type": "code",
   "execution_count": null,
   "id": "be770abe",
   "metadata": {},
   "outputs": [],
   "source": [
    "#Dataframe for buyers\n",
    "df_b1_jul_purchased=df_init_final.merge(df_b1_jul,on='CustomerContactID')\n",
    "\n",
    "df_b1_jul_purchased['Purchase']=1\n",
    "df_b1_jul_purchased\n",
    "\n",
    "#Dataframe for non buyers\n",
    "\n",
    "df_b1_jul_not_purchased=df_init_final.merge(df_b1_not_jul,on='CustomerContactID')\n",
    "df_b1_jul_not_purchased['Purchase']=0\n",
    "#df_b1_jul_not_purchased=df_b1_jul_not_purchased.sample(30000)\n",
    "\n",
    "#Merge the 2 dataframes\n",
    "df_b1_jul_log=pd.concat([df_b1_jul_purchased,df_b1_jul_not_purchased],axis=0)"
   ]
  },
  {
   "cell_type": "code",
   "execution_count": null,
   "id": "782e2624",
   "metadata": {},
   "outputs": [],
   "source": [
    "df_b1_jul_log['Purchase'].value_counts()"
   ]
  },
  {
   "cell_type": "code",
   "execution_count": null,
   "id": "582df9a3",
   "metadata": {},
   "outputs": [],
   "source": [
    "df_b1_jul_not_purchased=df_b1_jul_not_purchased.sample(30000)"
   ]
  },
  {
   "cell_type": "code",
   "execution_count": null,
   "id": "256ab79b",
   "metadata": {},
   "outputs": [],
   "source": [
    "df_b1_jul_log"
   ]
  },
  {
   "cell_type": "code",
   "execution_count": null,
   "id": "fc8b366c",
   "metadata": {},
   "outputs": [],
   "source": [
    "print('Distribution of Freq rank in Recency 1 bucket')\n",
    "print(df_b1_jul['freq'].value_counts())\n",
    "print('\\n')\n",
    "print('Distribution of Monetary rank in Recency 1 bucket')\n",
    "print(df_b1_jul['mon'].value_counts())\n",
    "print('\\n')\n",
    "\n",
    "print('Distribution of Freq rank in Recency 2 bucket')\n",
    "print(df_b2_jul['freq'].value_counts())\n",
    "print('\\n')\n",
    "print('Distribution of Monetary rank in Recency 1 bucket')\n",
    "print(df_b2_jul['mon'].value_counts())\n",
    "print('\\n')\n",
    "\n",
    "print('Distribution of Freq rank in Recency 3 bucket')\n",
    "print(df_b3_jul['freq'].value_counts())\n",
    "print('\\n')\n",
    "print('Distribution of Monetary rank in Recency 1 bucket')\n",
    "print(df_b3_jul['mon'].value_counts())\n",
    "print('\\n')\n",
    "\n",
    "print('Distribution of Freq rank in Recency 4 bucket')\n",
    "print(df_b4_jul['freq'].value_counts())\n",
    "print('\\n')\n",
    "print('Distribution of Monetary rank in Recency 1 bucket')\n",
    "print(df_b4_jul['mon'].value_counts())\n",
    "print('\\n')"
   ]
  },
  {
   "cell_type": "code",
   "execution_count": null,
   "id": "26249b67",
   "metadata": {},
   "outputs": [],
   "source": [
    "df_b1_jul"
   ]
  },
  {
   "cell_type": "markdown",
   "id": "35b18efd",
   "metadata": {},
   "source": [
    "# Monthly cross tabbed data"
   ]
  },
  {
   "cell_type": "markdown",
   "id": "25a7f528",
   "metadata": {},
   "source": [
    "Find out what is the return propensity for a month from all previous months"
   ]
  },
  {
   "cell_type": "code",
   "execution_count": null,
   "id": "773d1d20",
   "metadata": {},
   "outputs": [],
   "source": [
    "#Read the files and concat in one dataframe\n",
    "df1=pd.read_csv('SR-234242/jul21-sep21.csv')\n",
    "df2=pd.read_csv('SR-234242/oct21-dec21.csv')\n",
    "df3=pd.read_csv('SR-234242/jan22-mar22.csv')\n",
    "df4=pd.read_csv('SR-234242/apr22-jun22.csv')\n",
    "df5=pd.read_csv('SR-234242/jul22-sep22.csv')\n",
    "df=pd.concat([df1,df2,df3,df4,df5],axis=0)\n",
    "\n",
    "import warnings\n",
    "warnings.filterwarnings(\"ignore\")\n",
    "\n",
    "#data transformation- \n",
    "#drop Sales channel, Ticket. \n",
    "#df.drop(columns=['SalesChannelCode','Ticket'],inplace=True)\n",
    "\n",
    "#Clean up Quantity and keep rows only where Quantity>0\n",
    "df=df.replace(',','',regex=True)\n",
    "df['Quantity']=df['Quantity'].astype(str).astype(str).astype(float).astype(float)\n",
    "df['Gross']=df['Gross'].astype(str).astype(str).astype(float).astype(float)\n",
    "df=df[df['Quantity']>0]\n",
    "#drop Quantity\n",
    "#df.drop(columns='Quantity',inplace=True)\n",
    "#Convert orderDate to datetime format and find the difference from the max date value of the dataset\n",
    "df['orderDate']=pd.to_datetime(df['orderDate'])\n",
    "\n",
    "\n",
    "#Create a new column year_new to get an integer value for each month, year combination\n",
    "df['year']=df['orderDate'].dt.year\n",
    "df['month']=df['orderDate'].dt.month\n",
    "df['year_new']=1\n",
    "df.loc[df['year']==2021,'year']=0\n",
    "df.loc[df['year']==2022,'year']=12\n",
    "df['year_new']=df['month']+df['year']\n",
    "\n",
    "#This loop gives repeat purchasers in the same month \n",
    "#and repeat purchasers from the month originating from all months from month to July21\n",
    " \n",
    "for i in range(7,22):\n",
    "    df_con=df[df['year_new']==i]\n",
    "    df_con['Duplicated']=df_con['CustomerContactID'].duplicated()\n",
    "    df_con_duplicate=df_con[df_con['Duplicated']==True]\n",
    "    df_con_duplicate=df_con_duplicate.dropna()\n",
    "    #repeat purchasers in the same month \n",
    "    print(i,df_con_duplicate['CustomerContactID'].nunique())\n",
    "    print('___________________________________________')\n",
    "    common_count_ar=[]\n",
    "    for j in range(7,i):\n",
    "        common_count_ar=[]\n",
    "        df_lf=df[df['year_new']==j]\n",
    "        common=df_con.merge(df_lf,on='CustomerContactID')\n",
    "        common_count=common['CustomerContactID'].nunique()\n",
    "        common_count_ar.append(common_count)\n",
    "        # repeat purchasers from the month originating from all months from month to July21\n",
    "        print(j,common_count_ar)\n",
    "print('___________________________________________')"
   ]
  },
  {
   "cell_type": "code",
   "execution_count": null,
   "id": "7db3706a",
   "metadata": {},
   "outputs": [],
   "source": []
  },
  {
   "cell_type": "code",
   "execution_count": null,
   "id": "24243bc9",
   "metadata": {},
   "outputs": [],
   "source": [
    "df4=pd.read_csv('SR-234242/apr22-jun22.csv')"
   ]
  },
  {
   "cell_type": "code",
   "execution_count": null,
   "id": "51df8353",
   "metadata": {},
   "outputs": [],
   "source": [
    "df=df4"
   ]
  },
  {
   "cell_type": "code",
   "execution_count": null,
   "id": "fe88c9d3",
   "metadata": {},
   "outputs": [],
   "source": [
    "df.drop(columns=['SalesChannelCode','Ticket'],inplace=True)\n",
    "\n",
    "#Clean up Quantity and keep rows only where Quantity>0\n",
    "df=df.replace(',','',regex=True)\n",
    "df['Quantity']=df['Quantity'].astype(str).astype(str).astype(float).astype(float)\n",
    "df['Gross']=df['Gross'].astype(str).astype(str).astype(float).astype(float)\n",
    "df=df[df['Quantity']>0]\n",
    "#drop Quantity\n",
    "df.drop(columns='Quantity',inplace=True)\n",
    "#Convert orderDate to datetime format and find the difference from the max date value of the dataset\n",
    "df['orderDate']=pd.to_datetime(df['orderDate'])\n",
    "df['Diff']=pd.Timestamp(max(df['orderDate']))-df['orderDate']\n",
    "#convert the Diff values to integer\n",
    "df['Diff']=df['Diff'].dt.days"
   ]
  },
  {
   "cell_type": "code",
   "execution_count": null,
   "id": "39a51e5d",
   "metadata": {},
   "outputs": [],
   "source": [
    "s=df[df['Gross']<0]"
   ]
  },
  {
   "cell_type": "code",
   "execution_count": null,
   "id": "846fadb4",
   "metadata": {},
   "outputs": [],
   "source": [
    "s['CustomerContactID'].value_counts()"
   ]
  },
  {
   "cell_type": "code",
   "execution_count": null,
   "id": "c2636154",
   "metadata": {},
   "outputs": [],
   "source": [
    "df[df['CustomerContactID']=='8c7293e8195efd35fa8ada39fac03fc3']"
   ]
  },
  {
   "cell_type": "code",
   "execution_count": null,
   "id": "05ec81df",
   "metadata": {},
   "outputs": [],
   "source": []
  },
  {
   "cell_type": "code",
   "execution_count": null,
   "id": "a0f30a14",
   "metadata": {},
   "outputs": [],
   "source": []
  }
 ],
 "metadata": {
  "kernelspec": {
   "display_name": "Python 3 (ipykernel)",
   "language": "python",
   "name": "python3"
  },
  "language_info": {
   "codemirror_mode": {
    "name": "ipython",
    "version": 3
   },
   "file_extension": ".py",
   "mimetype": "text/x-python",
   "name": "python",
   "nbconvert_exporter": "python",
   "pygments_lexer": "ipython3",
   "version": "3.9.13"
  }
 },
 "nbformat": 4,
 "nbformat_minor": 5
}
